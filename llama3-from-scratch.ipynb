{
 "cells": [
  {
   "cell_type": "markdown",
   "metadata": {},
   "source": [
    "# llama3 implemented from scratch\n",
    "in this file, i implemented llama3 from scratch, one tensor and matrix multiplication at a time.\n",
    "<br>\n",
    "also, im going to load tensors directly from the model file that meta provided for llama3, you need to download the weights before running this file.\n",
    "here is the offical link to download the weights: https://llama.meta.com/llama-downloads/\n",
    "\n",
    "**Note:** In case it is not easy to download from above link, we put a snapshot at huggingface, you can download it from https://huggingface.co/zhangfaen/Meta-Llama-3-8B_checkpoint/ or run below command: \n",
    "> $huggingface-cli download zhangfaen/Meta-Llama-3-8B_checkpoint  --local-dir Meta-Llama-3-8B/\n",
    "\n",
    "\n",
    "<div>\n",
    "    <img src=\"images/archi.png\"/>\n",
    "</div>"
   ]
  },
  {
   "cell_type": "markdown",
   "metadata": {},
   "source": [
    "## tokenizer\n",
    "im not going to implement a bpe tokenizer (but andrej karpathy has a really clean implementation)\n",
    "<br>\n",
    "link to his implementation: https://github.com/karpathy/minbpe\n",
    "\n",
    "<div>\n",
    "    <img src=\"images/karpathyminbpe.png\" width=\"600\"/>\n",
    "</div>\n",
    "\n",
    " Below is definition of load_tiktoken_bpe function\n",
    " ```python\n",
    "def load_tiktoken_bpe(\n",
    "    tiktoken_bpe_file: str, expected_hash: Optional[str] = None\n",
    ") -> dict[bytes, int]:\n",
    "    # NB: do not add caching to this function\n",
    "    contents = read_file_cached(tiktoken_bpe_file, expected_hash)\n",
    "    return {\n",
    "        base64.b64decode(token): int(rank)\n",
    "        for token, rank in (line.split() for line in contents.splitlines() if line)\n",
    "    }\n",
    "```\n",
    "```bash\n",
    " (Pdb++) tokenizer.encode(\"中国\")\n",
    " [59795]\n",
    " (Pdb++) [k for k,v in mergeable_ranks.items() if v == 59795]\n",
    " [b'\\xe4\\xb8\\xad\\xe5\\x9b\\xbd']\n",
    "\n",
    " in python interpreter \n",
    " >>> \"中国\".encode()\n",
    " b'\\xe4\\xb8\\xad\\xe5\\x9b\\xbd'\n",
    " >>> import base64\n",
    " >>> base64.b64encode(b'\\xe4\\xb8\\xad\\xe5\\x9b\\xbd')\n",
    " b'5Lit5Zu9'\n",
    "\n",
    " In tokenizer_path model file, there is a line: (it is text file, just vim it). \n",
    " every line is token def pair: b64encode of that token str into utf8 bytes and its rank.\n",
    " b'5Lit5Zu9' 59795\n",
    " ```\n",
    "\n",
    " Here, tokenizer.n_vocab is 128256"
   ]
  },
  {
   "cell_type": "code",
   "execution_count": 57,
   "metadata": {},
   "outputs": [
    {
     "data": {
      "text/plain": [
       "'hello world!'"
      ]
     },
     "execution_count": 57,
     "metadata": {},
     "output_type": "execute_result"
    }
   ],
   "source": [
    "from pathlib import Path\n",
    "import tiktoken\n",
    "from tiktoken.load import load_tiktoken_bpe\n",
    "import torch\n",
    "import json\n",
    "import matplotlib.pyplot as plt\n",
    "\n",
    "tokenizer_path = \"Meta-Llama-3-8B/tokenizer.model\"\n",
    "special_tokens = [\n",
    "            \"<|begin_of_text|>\",\n",
    "            \"<|end_of_text|>\",\n",
    "            \"<|reserved_special_token_0|>\",\n",
    "            \"<|reserved_special_token_1|>\",\n",
    "            \"<|reserved_special_token_2|>\",\n",
    "            \"<|reserved_special_token_3|>\",\n",
    "            \"<|start_header_id|>\",\n",
    "            \"<|end_header_id|>\",\n",
    "            \"<|reserved_special_token_4|>\",\n",
    "            \"<|eot_id|>\",  # end of turn\n",
    "        ] + [f\"<|reserved_special_token_{i}|>\" for i in range(5, 256 - 5)]\n",
    "mergeable_ranks = load_tiktoken_bpe(tokenizer_path)\n",
    "tokenizer = tiktoken.Encoding(\n",
    "    name=Path(tokenizer_path).name,\n",
    "    pat_str=r\"(?i:'s|'t|'re|'ve|'m|'ll|'d)|[^\\r\\n\\p{L}\\p{N}]?\\p{L}+|\\p{N}{1,3}| ?[^\\s\\p{L}\\p{N}]+[\\r\\n]*|\\s*[\\r\\n]+|\\s+(?!\\S)|\\s+\",\n",
    "    mergeable_ranks=mergeable_ranks,\n",
    "    special_tokens={token: len(mergeable_ranks) + i for i, token in enumerate(special_tokens)},\n",
    ")\n",
    "\n",
    "tokenizer.decode(tokenizer.encode(\"hello world!\"))"
   ]
  },
  {
   "cell_type": "markdown",
   "metadata": {},
   "source": [
    "## reading the model file\n",
    "normally, reading this depends on how the model classes are written and the variable names inside them.\n",
    "<br>\n",
    "but since we are implementing llama3 from scratch we will read the file one tensor at a time.\n",
    "<div>\n",
    "    <img src=\"images/model.png\" width=\"600\"/>\n",
    "</div>"
   ]
  },
  {
   "cell_type": "code",
   "execution_count": 58,
   "metadata": {},
   "outputs": [
    {
     "name": "stdout",
     "output_type": "stream",
     "text": [
      "[\n",
      "    \"tok_embeddings.weight\",\n",
      "    \"layers.0.attention.wq.weight\",\n",
      "    \"layers.0.attention.wk.weight\",\n",
      "    \"layers.0.attention.wv.weight\",\n",
      "    \"layers.0.attention.wo.weight\",\n",
      "    \"layers.0.feed_forward.w1.weight\",\n",
      "    \"layers.0.feed_forward.w3.weight\",\n",
      "    \"layers.0.feed_forward.w2.weight\",\n",
      "    \"layers.0.attention_norm.weight\",\n",
      "    \"layers.0.ffn_norm.weight\",\n",
      "    \"layers.1.attention.wq.weight\",\n",
      "    \"layers.1.attention.wk.weight\",\n",
      "    \"layers.1.attention.wv.weight\",\n",
      "    \"layers.1.attention.wo.weight\",\n",
      "    \"layers.1.feed_forward.w1.weight\",\n",
      "    \"layers.1.feed_forward.w3.weight\",\n",
      "    \"layers.1.feed_forward.w2.weight\",\n",
      "    \"layers.1.attention_norm.weight\",\n",
      "    \"layers.1.ffn_norm.weight\",\n",
      "    \"layers.2.attention.wq.weight\"\n",
      "]\n"
     ]
    }
   ],
   "source": [
    "model = torch.load(\"Meta-Llama-3-8B/consolidated.00.pth\")\n",
    "print(json.dumps(list(model.keys())[:20], indent=4))"
   ]
  },
  {
   "cell_type": "code",
   "execution_count": 59,
   "metadata": {},
   "outputs": [
    {
     "name": "stdout",
     "output_type": "stream",
     "text": [
      "291\n",
      "tok_embeddings.weight torch.Size([128256, 4096]) <class 'torch.Tensor'>\n",
      "layers.0.attention.wq.weight torch.Size([4096, 4096]) <class 'torch.Tensor'>\n",
      "layers.0.attention.wk.weight torch.Size([1024, 4096]) <class 'torch.Tensor'>\n",
      "layers.0.attention.wv.weight torch.Size([1024, 4096]) <class 'torch.Tensor'>\n",
      "layers.0.attention.wo.weight torch.Size([4096, 4096]) <class 'torch.Tensor'>\n",
      "layers.0.feed_forward.w1.weight torch.Size([14336, 4096]) <class 'torch.Tensor'>\n",
      "layers.0.feed_forward.w3.weight torch.Size([14336, 4096]) <class 'torch.Tensor'>\n",
      "layers.0.feed_forward.w2.weight torch.Size([4096, 14336]) <class 'torch.Tensor'>\n",
      "layers.0.attention_norm.weight torch.Size([4096]) <class 'torch.Tensor'>\n",
      "layers.0.ffn_norm.weight torch.Size([4096]) <class 'torch.Tensor'>\n",
      "layers.1.attention.wq.weight torch.Size([4096, 4096]) <class 'torch.Tensor'>\n",
      "layers.1.attention.wk.weight torch.Size([1024, 4096]) <class 'torch.Tensor'>\n",
      "layers.1.attention.wv.weight torch.Size([1024, 4096]) <class 'torch.Tensor'>\n",
      "layers.1.attention.wo.weight torch.Size([4096, 4096]) <class 'torch.Tensor'>\n",
      "layers.1.feed_forward.w1.weight torch.Size([14336, 4096]) <class 'torch.Tensor'>\n",
      "layers.1.feed_forward.w3.weight torch.Size([14336, 4096]) <class 'torch.Tensor'>\n",
      "layers.1.feed_forward.w2.weight torch.Size([4096, 14336]) <class 'torch.Tensor'>\n",
      "layers.1.attention_norm.weight torch.Size([4096]) <class 'torch.Tensor'>\n",
      "layers.1.ffn_norm.weight torch.Size([4096]) <class 'torch.Tensor'>\n",
      "layers.2.attention.wq.weight torch.Size([4096, 4096]) <class 'torch.Tensor'>\n",
      "layers.2.attention.wk.weight torch.Size([1024, 4096]) <class 'torch.Tensor'>\n",
      "layers.2.attention.wv.weight torch.Size([1024, 4096]) <class 'torch.Tensor'>\n",
      "layers.2.attention.wo.weight torch.Size([4096, 4096]) <class 'torch.Tensor'>\n",
      "layers.2.feed_forward.w1.weight torch.Size([14336, 4096]) <class 'torch.Tensor'>\n",
      "layers.2.feed_forward.w3.weight torch.Size([14336, 4096]) <class 'torch.Tensor'>\n",
      "layers.2.feed_forward.w2.weight torch.Size([4096, 14336]) <class 'torch.Tensor'>\n",
      "layers.2.attention_norm.weight torch.Size([4096]) <class 'torch.Tensor'>\n",
      "layers.2.ffn_norm.weight torch.Size([4096]) <class 'torch.Tensor'>\n",
      "layers.3.attention.wq.weight torch.Size([4096, 4096]) <class 'torch.Tensor'>\n",
      "layers.3.attention.wk.weight torch.Size([1024, 4096]) <class 'torch.Tensor'>\n",
      "layers.3.attention.wv.weight torch.Size([1024, 4096]) <class 'torch.Tensor'>\n",
      "layers.3.attention.wo.weight torch.Size([4096, 4096]) <class 'torch.Tensor'>\n",
      "layers.3.feed_forward.w1.weight torch.Size([14336, 4096]) <class 'torch.Tensor'>\n",
      "layers.3.feed_forward.w3.weight torch.Size([14336, 4096]) <class 'torch.Tensor'>\n",
      "layers.3.feed_forward.w2.weight torch.Size([4096, 14336]) <class 'torch.Tensor'>\n",
      "layers.3.attention_norm.weight torch.Size([4096]) <class 'torch.Tensor'>\n",
      "layers.3.ffn_norm.weight torch.Size([4096]) <class 'torch.Tensor'>\n",
      "layers.4.attention.wq.weight torch.Size([4096, 4096]) <class 'torch.Tensor'>\n",
      "layers.4.attention.wk.weight torch.Size([1024, 4096]) <class 'torch.Tensor'>\n",
      "layers.4.attention.wv.weight torch.Size([1024, 4096]) <class 'torch.Tensor'>\n",
      "layers.4.attention.wo.weight torch.Size([4096, 4096]) <class 'torch.Tensor'>\n",
      "layers.4.feed_forward.w1.weight torch.Size([14336, 4096]) <class 'torch.Tensor'>\n",
      "layers.4.feed_forward.w3.weight torch.Size([14336, 4096]) <class 'torch.Tensor'>\n",
      "layers.4.feed_forward.w2.weight torch.Size([4096, 14336]) <class 'torch.Tensor'>\n",
      "layers.4.attention_norm.weight torch.Size([4096]) <class 'torch.Tensor'>\n",
      "layers.4.ffn_norm.weight torch.Size([4096]) <class 'torch.Tensor'>\n",
      "layers.5.attention.wq.weight torch.Size([4096, 4096]) <class 'torch.Tensor'>\n",
      "layers.5.attention.wk.weight torch.Size([1024, 4096]) <class 'torch.Tensor'>\n",
      "layers.5.attention.wv.weight torch.Size([1024, 4096]) <class 'torch.Tensor'>\n",
      "layers.5.attention.wo.weight torch.Size([4096, 4096]) <class 'torch.Tensor'>\n",
      "layers.5.feed_forward.w1.weight torch.Size([14336, 4096]) <class 'torch.Tensor'>\n",
      "layers.5.feed_forward.w3.weight torch.Size([14336, 4096]) <class 'torch.Tensor'>\n",
      "layers.5.feed_forward.w2.weight torch.Size([4096, 14336]) <class 'torch.Tensor'>\n",
      "layers.5.attention_norm.weight torch.Size([4096]) <class 'torch.Tensor'>\n",
      "layers.5.ffn_norm.weight torch.Size([4096]) <class 'torch.Tensor'>\n",
      "layers.6.attention.wq.weight torch.Size([4096, 4096]) <class 'torch.Tensor'>\n",
      "layers.6.attention.wk.weight torch.Size([1024, 4096]) <class 'torch.Tensor'>\n",
      "layers.6.attention.wv.weight torch.Size([1024, 4096]) <class 'torch.Tensor'>\n",
      "layers.6.attention.wo.weight torch.Size([4096, 4096]) <class 'torch.Tensor'>\n",
      "layers.6.feed_forward.w1.weight torch.Size([14336, 4096]) <class 'torch.Tensor'>\n",
      "layers.6.feed_forward.w3.weight torch.Size([14336, 4096]) <class 'torch.Tensor'>\n",
      "layers.6.feed_forward.w2.weight torch.Size([4096, 14336]) <class 'torch.Tensor'>\n",
      "layers.6.attention_norm.weight torch.Size([4096]) <class 'torch.Tensor'>\n",
      "layers.6.ffn_norm.weight torch.Size([4096]) <class 'torch.Tensor'>\n",
      "layers.7.attention.wq.weight torch.Size([4096, 4096]) <class 'torch.Tensor'>\n",
      "layers.7.attention.wk.weight torch.Size([1024, 4096]) <class 'torch.Tensor'>\n",
      "layers.7.attention.wv.weight torch.Size([1024, 4096]) <class 'torch.Tensor'>\n",
      "layers.7.attention.wo.weight torch.Size([4096, 4096]) <class 'torch.Tensor'>\n",
      "layers.7.feed_forward.w1.weight torch.Size([14336, 4096]) <class 'torch.Tensor'>\n",
      "layers.7.feed_forward.w3.weight torch.Size([14336, 4096]) <class 'torch.Tensor'>\n",
      "layers.7.feed_forward.w2.weight torch.Size([4096, 14336]) <class 'torch.Tensor'>\n",
      "layers.7.attention_norm.weight torch.Size([4096]) <class 'torch.Tensor'>\n",
      "layers.7.ffn_norm.weight torch.Size([4096]) <class 'torch.Tensor'>\n",
      "layers.8.attention.wq.weight torch.Size([4096, 4096]) <class 'torch.Tensor'>\n",
      "layers.8.attention.wk.weight torch.Size([1024, 4096]) <class 'torch.Tensor'>\n",
      "layers.8.attention.wv.weight torch.Size([1024, 4096]) <class 'torch.Tensor'>\n",
      "layers.8.attention.wo.weight torch.Size([4096, 4096]) <class 'torch.Tensor'>\n",
      "layers.8.feed_forward.w1.weight torch.Size([14336, 4096]) <class 'torch.Tensor'>\n",
      "layers.8.feed_forward.w3.weight torch.Size([14336, 4096]) <class 'torch.Tensor'>\n",
      "layers.8.feed_forward.w2.weight torch.Size([4096, 14336]) <class 'torch.Tensor'>\n",
      "layers.8.attention_norm.weight torch.Size([4096]) <class 'torch.Tensor'>\n",
      "layers.8.ffn_norm.weight torch.Size([4096]) <class 'torch.Tensor'>\n",
      "layers.9.attention.wq.weight torch.Size([4096, 4096]) <class 'torch.Tensor'>\n",
      "layers.9.attention.wk.weight torch.Size([1024, 4096]) <class 'torch.Tensor'>\n",
      "layers.9.attention.wv.weight torch.Size([1024, 4096]) <class 'torch.Tensor'>\n",
      "layers.9.attention.wo.weight torch.Size([4096, 4096]) <class 'torch.Tensor'>\n",
      "layers.9.feed_forward.w1.weight torch.Size([14336, 4096]) <class 'torch.Tensor'>\n",
      "layers.9.feed_forward.w3.weight torch.Size([14336, 4096]) <class 'torch.Tensor'>\n",
      "layers.9.feed_forward.w2.weight torch.Size([4096, 14336]) <class 'torch.Tensor'>\n",
      "layers.9.attention_norm.weight torch.Size([4096]) <class 'torch.Tensor'>\n",
      "layers.9.ffn_norm.weight torch.Size([4096]) <class 'torch.Tensor'>\n",
      "layers.10.attention.wq.weight torch.Size([4096, 4096]) <class 'torch.Tensor'>\n",
      "layers.10.attention.wk.weight torch.Size([1024, 4096]) <class 'torch.Tensor'>\n",
      "layers.10.attention.wv.weight torch.Size([1024, 4096]) <class 'torch.Tensor'>\n",
      "layers.10.attention.wo.weight torch.Size([4096, 4096]) <class 'torch.Tensor'>\n",
      "layers.10.feed_forward.w1.weight torch.Size([14336, 4096]) <class 'torch.Tensor'>\n",
      "layers.10.feed_forward.w3.weight torch.Size([14336, 4096]) <class 'torch.Tensor'>\n",
      "layers.10.feed_forward.w2.weight torch.Size([4096, 14336]) <class 'torch.Tensor'>\n",
      "layers.10.attention_norm.weight torch.Size([4096]) <class 'torch.Tensor'>\n",
      "layers.10.ffn_norm.weight torch.Size([4096]) <class 'torch.Tensor'>\n",
      "layers.11.attention.wq.weight torch.Size([4096, 4096]) <class 'torch.Tensor'>\n",
      "layers.11.attention.wk.weight torch.Size([1024, 4096]) <class 'torch.Tensor'>\n",
      "layers.11.attention.wv.weight torch.Size([1024, 4096]) <class 'torch.Tensor'>\n",
      "layers.11.attention.wo.weight torch.Size([4096, 4096]) <class 'torch.Tensor'>\n",
      "layers.11.feed_forward.w1.weight torch.Size([14336, 4096]) <class 'torch.Tensor'>\n",
      "layers.11.feed_forward.w3.weight torch.Size([14336, 4096]) <class 'torch.Tensor'>\n",
      "layers.11.feed_forward.w2.weight torch.Size([4096, 14336]) <class 'torch.Tensor'>\n",
      "layers.11.attention_norm.weight torch.Size([4096]) <class 'torch.Tensor'>\n",
      "layers.11.ffn_norm.weight torch.Size([4096]) <class 'torch.Tensor'>\n",
      "layers.12.attention.wq.weight torch.Size([4096, 4096]) <class 'torch.Tensor'>\n",
      "layers.12.attention.wk.weight torch.Size([1024, 4096]) <class 'torch.Tensor'>\n",
      "layers.12.attention.wv.weight torch.Size([1024, 4096]) <class 'torch.Tensor'>\n",
      "layers.12.attention.wo.weight torch.Size([4096, 4096]) <class 'torch.Tensor'>\n",
      "layers.12.feed_forward.w1.weight torch.Size([14336, 4096]) <class 'torch.Tensor'>\n",
      "layers.12.feed_forward.w3.weight torch.Size([14336, 4096]) <class 'torch.Tensor'>\n",
      "layers.12.feed_forward.w2.weight torch.Size([4096, 14336]) <class 'torch.Tensor'>\n",
      "layers.12.attention_norm.weight torch.Size([4096]) <class 'torch.Tensor'>\n",
      "layers.12.ffn_norm.weight torch.Size([4096]) <class 'torch.Tensor'>\n",
      "layers.13.attention.wq.weight torch.Size([4096, 4096]) <class 'torch.Tensor'>\n",
      "layers.13.attention.wk.weight torch.Size([1024, 4096]) <class 'torch.Tensor'>\n",
      "layers.13.attention.wv.weight torch.Size([1024, 4096]) <class 'torch.Tensor'>\n",
      "layers.13.attention.wo.weight torch.Size([4096, 4096]) <class 'torch.Tensor'>\n",
      "layers.13.feed_forward.w1.weight torch.Size([14336, 4096]) <class 'torch.Tensor'>\n",
      "layers.13.feed_forward.w3.weight torch.Size([14336, 4096]) <class 'torch.Tensor'>\n",
      "layers.13.feed_forward.w2.weight torch.Size([4096, 14336]) <class 'torch.Tensor'>\n",
      "layers.13.attention_norm.weight torch.Size([4096]) <class 'torch.Tensor'>\n",
      "layers.13.ffn_norm.weight torch.Size([4096]) <class 'torch.Tensor'>\n",
      "layers.14.attention.wq.weight torch.Size([4096, 4096]) <class 'torch.Tensor'>\n",
      "layers.14.attention.wk.weight torch.Size([1024, 4096]) <class 'torch.Tensor'>\n",
      "layers.14.attention.wv.weight torch.Size([1024, 4096]) <class 'torch.Tensor'>\n",
      "layers.14.attention.wo.weight torch.Size([4096, 4096]) <class 'torch.Tensor'>\n",
      "layers.14.feed_forward.w1.weight torch.Size([14336, 4096]) <class 'torch.Tensor'>\n",
      "layers.14.feed_forward.w3.weight torch.Size([14336, 4096]) <class 'torch.Tensor'>\n",
      "layers.14.feed_forward.w2.weight torch.Size([4096, 14336]) <class 'torch.Tensor'>\n",
      "layers.14.attention_norm.weight torch.Size([4096]) <class 'torch.Tensor'>\n",
      "layers.14.ffn_norm.weight torch.Size([4096]) <class 'torch.Tensor'>\n",
      "layers.15.attention.wq.weight torch.Size([4096, 4096]) <class 'torch.Tensor'>\n",
      "layers.15.attention.wk.weight torch.Size([1024, 4096]) <class 'torch.Tensor'>\n",
      "layers.15.attention.wv.weight torch.Size([1024, 4096]) <class 'torch.Tensor'>\n",
      "layers.15.attention.wo.weight torch.Size([4096, 4096]) <class 'torch.Tensor'>\n",
      "layers.15.feed_forward.w1.weight torch.Size([14336, 4096]) <class 'torch.Tensor'>\n",
      "layers.15.feed_forward.w3.weight torch.Size([14336, 4096]) <class 'torch.Tensor'>\n",
      "layers.15.feed_forward.w2.weight torch.Size([4096, 14336]) <class 'torch.Tensor'>\n",
      "layers.15.attention_norm.weight torch.Size([4096]) <class 'torch.Tensor'>\n",
      "layers.15.ffn_norm.weight torch.Size([4096]) <class 'torch.Tensor'>\n",
      "layers.16.attention.wq.weight torch.Size([4096, 4096]) <class 'torch.Tensor'>\n",
      "layers.16.attention.wk.weight torch.Size([1024, 4096]) <class 'torch.Tensor'>\n",
      "layers.16.attention.wv.weight torch.Size([1024, 4096]) <class 'torch.Tensor'>\n",
      "layers.16.attention.wo.weight torch.Size([4096, 4096]) <class 'torch.Tensor'>\n",
      "layers.16.feed_forward.w1.weight torch.Size([14336, 4096]) <class 'torch.Tensor'>\n",
      "layers.16.feed_forward.w3.weight torch.Size([14336, 4096]) <class 'torch.Tensor'>\n",
      "layers.16.feed_forward.w2.weight torch.Size([4096, 14336]) <class 'torch.Tensor'>\n",
      "layers.16.attention_norm.weight torch.Size([4096]) <class 'torch.Tensor'>\n",
      "layers.16.ffn_norm.weight torch.Size([4096]) <class 'torch.Tensor'>\n",
      "layers.17.attention.wq.weight torch.Size([4096, 4096]) <class 'torch.Tensor'>\n",
      "layers.17.attention.wk.weight torch.Size([1024, 4096]) <class 'torch.Tensor'>\n",
      "layers.17.attention.wv.weight torch.Size([1024, 4096]) <class 'torch.Tensor'>\n",
      "layers.17.attention.wo.weight torch.Size([4096, 4096]) <class 'torch.Tensor'>\n",
      "layers.17.feed_forward.w1.weight torch.Size([14336, 4096]) <class 'torch.Tensor'>\n",
      "layers.17.feed_forward.w3.weight torch.Size([14336, 4096]) <class 'torch.Tensor'>\n",
      "layers.17.feed_forward.w2.weight torch.Size([4096, 14336]) <class 'torch.Tensor'>\n",
      "layers.17.attention_norm.weight torch.Size([4096]) <class 'torch.Tensor'>\n",
      "layers.17.ffn_norm.weight torch.Size([4096]) <class 'torch.Tensor'>\n",
      "layers.18.attention.wq.weight torch.Size([4096, 4096]) <class 'torch.Tensor'>\n",
      "layers.18.attention.wk.weight torch.Size([1024, 4096]) <class 'torch.Tensor'>\n",
      "layers.18.attention.wv.weight torch.Size([1024, 4096]) <class 'torch.Tensor'>\n",
      "layers.18.attention.wo.weight torch.Size([4096, 4096]) <class 'torch.Tensor'>\n",
      "layers.18.feed_forward.w1.weight torch.Size([14336, 4096]) <class 'torch.Tensor'>\n",
      "layers.18.feed_forward.w3.weight torch.Size([14336, 4096]) <class 'torch.Tensor'>\n",
      "layers.18.feed_forward.w2.weight torch.Size([4096, 14336]) <class 'torch.Tensor'>\n",
      "layers.18.attention_norm.weight torch.Size([4096]) <class 'torch.Tensor'>\n",
      "layers.18.ffn_norm.weight torch.Size([4096]) <class 'torch.Tensor'>\n",
      "layers.19.attention.wq.weight torch.Size([4096, 4096]) <class 'torch.Tensor'>\n",
      "layers.19.attention.wk.weight torch.Size([1024, 4096]) <class 'torch.Tensor'>\n",
      "layers.19.attention.wv.weight torch.Size([1024, 4096]) <class 'torch.Tensor'>\n",
      "layers.19.attention.wo.weight torch.Size([4096, 4096]) <class 'torch.Tensor'>\n",
      "layers.19.feed_forward.w1.weight torch.Size([14336, 4096]) <class 'torch.Tensor'>\n",
      "layers.19.feed_forward.w3.weight torch.Size([14336, 4096]) <class 'torch.Tensor'>\n",
      "layers.19.feed_forward.w2.weight torch.Size([4096, 14336]) <class 'torch.Tensor'>\n",
      "layers.19.attention_norm.weight torch.Size([4096]) <class 'torch.Tensor'>\n",
      "layers.19.ffn_norm.weight torch.Size([4096]) <class 'torch.Tensor'>\n",
      "layers.20.attention.wq.weight torch.Size([4096, 4096]) <class 'torch.Tensor'>\n",
      "layers.20.attention.wk.weight torch.Size([1024, 4096]) <class 'torch.Tensor'>\n",
      "layers.20.attention.wv.weight torch.Size([1024, 4096]) <class 'torch.Tensor'>\n",
      "layers.20.attention.wo.weight torch.Size([4096, 4096]) <class 'torch.Tensor'>\n",
      "layers.20.feed_forward.w1.weight torch.Size([14336, 4096]) <class 'torch.Tensor'>\n",
      "layers.20.feed_forward.w3.weight torch.Size([14336, 4096]) <class 'torch.Tensor'>\n",
      "layers.20.feed_forward.w2.weight torch.Size([4096, 14336]) <class 'torch.Tensor'>\n",
      "layers.20.attention_norm.weight torch.Size([4096]) <class 'torch.Tensor'>\n",
      "layers.20.ffn_norm.weight torch.Size([4096]) <class 'torch.Tensor'>\n",
      "layers.21.attention.wq.weight torch.Size([4096, 4096]) <class 'torch.Tensor'>\n",
      "layers.21.attention.wk.weight torch.Size([1024, 4096]) <class 'torch.Tensor'>\n",
      "layers.21.attention.wv.weight torch.Size([1024, 4096]) <class 'torch.Tensor'>\n",
      "layers.21.attention.wo.weight torch.Size([4096, 4096]) <class 'torch.Tensor'>\n",
      "layers.21.feed_forward.w1.weight torch.Size([14336, 4096]) <class 'torch.Tensor'>\n",
      "layers.21.feed_forward.w3.weight torch.Size([14336, 4096]) <class 'torch.Tensor'>\n",
      "layers.21.feed_forward.w2.weight torch.Size([4096, 14336]) <class 'torch.Tensor'>\n",
      "layers.21.attention_norm.weight torch.Size([4096]) <class 'torch.Tensor'>\n",
      "layers.21.ffn_norm.weight torch.Size([4096]) <class 'torch.Tensor'>\n",
      "layers.22.attention.wq.weight torch.Size([4096, 4096]) <class 'torch.Tensor'>\n",
      "layers.22.attention.wk.weight torch.Size([1024, 4096]) <class 'torch.Tensor'>\n",
      "layers.22.attention.wv.weight torch.Size([1024, 4096]) <class 'torch.Tensor'>\n",
      "layers.22.attention.wo.weight torch.Size([4096, 4096]) <class 'torch.Tensor'>\n",
      "layers.22.feed_forward.w1.weight torch.Size([14336, 4096]) <class 'torch.Tensor'>\n",
      "layers.22.feed_forward.w3.weight torch.Size([14336, 4096]) <class 'torch.Tensor'>\n",
      "layers.22.feed_forward.w2.weight torch.Size([4096, 14336]) <class 'torch.Tensor'>\n",
      "layers.22.attention_norm.weight torch.Size([4096]) <class 'torch.Tensor'>\n",
      "layers.22.ffn_norm.weight torch.Size([4096]) <class 'torch.Tensor'>\n",
      "layers.23.attention.wq.weight torch.Size([4096, 4096]) <class 'torch.Tensor'>\n",
      "layers.23.attention.wk.weight torch.Size([1024, 4096]) <class 'torch.Tensor'>\n",
      "layers.23.attention.wv.weight torch.Size([1024, 4096]) <class 'torch.Tensor'>\n",
      "layers.23.attention.wo.weight torch.Size([4096, 4096]) <class 'torch.Tensor'>\n",
      "layers.23.feed_forward.w1.weight torch.Size([14336, 4096]) <class 'torch.Tensor'>\n",
      "layers.23.feed_forward.w3.weight torch.Size([14336, 4096]) <class 'torch.Tensor'>\n",
      "layers.23.feed_forward.w2.weight torch.Size([4096, 14336]) <class 'torch.Tensor'>\n",
      "layers.23.attention_norm.weight torch.Size([4096]) <class 'torch.Tensor'>\n",
      "layers.23.ffn_norm.weight torch.Size([4096]) <class 'torch.Tensor'>\n",
      "layers.24.attention.wq.weight torch.Size([4096, 4096]) <class 'torch.Tensor'>\n",
      "layers.24.attention.wk.weight torch.Size([1024, 4096]) <class 'torch.Tensor'>\n",
      "layers.24.attention.wv.weight torch.Size([1024, 4096]) <class 'torch.Tensor'>\n",
      "layers.24.attention.wo.weight torch.Size([4096, 4096]) <class 'torch.Tensor'>\n",
      "layers.24.feed_forward.w1.weight torch.Size([14336, 4096]) <class 'torch.Tensor'>\n",
      "layers.24.feed_forward.w3.weight torch.Size([14336, 4096]) <class 'torch.Tensor'>\n",
      "layers.24.feed_forward.w2.weight torch.Size([4096, 14336]) <class 'torch.Tensor'>\n",
      "layers.24.attention_norm.weight torch.Size([4096]) <class 'torch.Tensor'>\n",
      "layers.24.ffn_norm.weight torch.Size([4096]) <class 'torch.Tensor'>\n",
      "layers.25.attention.wq.weight torch.Size([4096, 4096]) <class 'torch.Tensor'>\n",
      "layers.25.attention.wk.weight torch.Size([1024, 4096]) <class 'torch.Tensor'>\n",
      "layers.25.attention.wv.weight torch.Size([1024, 4096]) <class 'torch.Tensor'>\n",
      "layers.25.attention.wo.weight torch.Size([4096, 4096]) <class 'torch.Tensor'>\n",
      "layers.25.feed_forward.w1.weight torch.Size([14336, 4096]) <class 'torch.Tensor'>\n",
      "layers.25.feed_forward.w3.weight torch.Size([14336, 4096]) <class 'torch.Tensor'>\n",
      "layers.25.feed_forward.w2.weight torch.Size([4096, 14336]) <class 'torch.Tensor'>\n",
      "layers.25.attention_norm.weight torch.Size([4096]) <class 'torch.Tensor'>\n",
      "layers.25.ffn_norm.weight torch.Size([4096]) <class 'torch.Tensor'>\n",
      "layers.26.attention.wq.weight torch.Size([4096, 4096]) <class 'torch.Tensor'>\n",
      "layers.26.attention.wk.weight torch.Size([1024, 4096]) <class 'torch.Tensor'>\n",
      "layers.26.attention.wv.weight torch.Size([1024, 4096]) <class 'torch.Tensor'>\n",
      "layers.26.attention.wo.weight torch.Size([4096, 4096]) <class 'torch.Tensor'>\n",
      "layers.26.feed_forward.w1.weight torch.Size([14336, 4096]) <class 'torch.Tensor'>\n",
      "layers.26.feed_forward.w3.weight torch.Size([14336, 4096]) <class 'torch.Tensor'>\n",
      "layers.26.feed_forward.w2.weight torch.Size([4096, 14336]) <class 'torch.Tensor'>\n",
      "layers.26.attention_norm.weight torch.Size([4096]) <class 'torch.Tensor'>\n",
      "layers.26.ffn_norm.weight torch.Size([4096]) <class 'torch.Tensor'>\n",
      "layers.27.attention.wq.weight torch.Size([4096, 4096]) <class 'torch.Tensor'>\n",
      "layers.27.attention.wk.weight torch.Size([1024, 4096]) <class 'torch.Tensor'>\n",
      "layers.27.attention.wv.weight torch.Size([1024, 4096]) <class 'torch.Tensor'>\n",
      "layers.27.attention.wo.weight torch.Size([4096, 4096]) <class 'torch.Tensor'>\n",
      "layers.27.feed_forward.w1.weight torch.Size([14336, 4096]) <class 'torch.Tensor'>\n",
      "layers.27.feed_forward.w3.weight torch.Size([14336, 4096]) <class 'torch.Tensor'>\n",
      "layers.27.feed_forward.w2.weight torch.Size([4096, 14336]) <class 'torch.Tensor'>\n",
      "layers.27.attention_norm.weight torch.Size([4096]) <class 'torch.Tensor'>\n",
      "layers.27.ffn_norm.weight torch.Size([4096]) <class 'torch.Tensor'>\n",
      "layers.28.attention.wq.weight torch.Size([4096, 4096]) <class 'torch.Tensor'>\n",
      "layers.28.attention.wk.weight torch.Size([1024, 4096]) <class 'torch.Tensor'>\n",
      "layers.28.attention.wv.weight torch.Size([1024, 4096]) <class 'torch.Tensor'>\n",
      "layers.28.attention.wo.weight torch.Size([4096, 4096]) <class 'torch.Tensor'>\n",
      "layers.28.feed_forward.w1.weight torch.Size([14336, 4096]) <class 'torch.Tensor'>\n",
      "layers.28.feed_forward.w3.weight torch.Size([14336, 4096]) <class 'torch.Tensor'>\n",
      "layers.28.feed_forward.w2.weight torch.Size([4096, 14336]) <class 'torch.Tensor'>\n",
      "layers.28.attention_norm.weight torch.Size([4096]) <class 'torch.Tensor'>\n",
      "layers.28.ffn_norm.weight torch.Size([4096]) <class 'torch.Tensor'>\n",
      "layers.29.attention.wq.weight torch.Size([4096, 4096]) <class 'torch.Tensor'>\n",
      "layers.29.attention.wk.weight torch.Size([1024, 4096]) <class 'torch.Tensor'>\n",
      "layers.29.attention.wv.weight torch.Size([1024, 4096]) <class 'torch.Tensor'>\n",
      "layers.29.attention.wo.weight torch.Size([4096, 4096]) <class 'torch.Tensor'>\n",
      "layers.29.feed_forward.w1.weight torch.Size([14336, 4096]) <class 'torch.Tensor'>\n",
      "layers.29.feed_forward.w3.weight torch.Size([14336, 4096]) <class 'torch.Tensor'>\n",
      "layers.29.feed_forward.w2.weight torch.Size([4096, 14336]) <class 'torch.Tensor'>\n",
      "layers.29.attention_norm.weight torch.Size([4096]) <class 'torch.Tensor'>\n",
      "layers.29.ffn_norm.weight torch.Size([4096]) <class 'torch.Tensor'>\n",
      "layers.30.attention.wq.weight torch.Size([4096, 4096]) <class 'torch.Tensor'>\n",
      "layers.30.attention.wk.weight torch.Size([1024, 4096]) <class 'torch.Tensor'>\n",
      "layers.30.attention.wv.weight torch.Size([1024, 4096]) <class 'torch.Tensor'>\n",
      "layers.30.attention.wo.weight torch.Size([4096, 4096]) <class 'torch.Tensor'>\n",
      "layers.30.feed_forward.w1.weight torch.Size([14336, 4096]) <class 'torch.Tensor'>\n",
      "layers.30.feed_forward.w3.weight torch.Size([14336, 4096]) <class 'torch.Tensor'>\n",
      "layers.30.feed_forward.w2.weight torch.Size([4096, 14336]) <class 'torch.Tensor'>\n",
      "layers.30.attention_norm.weight torch.Size([4096]) <class 'torch.Tensor'>\n",
      "layers.30.ffn_norm.weight torch.Size([4096]) <class 'torch.Tensor'>\n",
      "layers.31.attention.wq.weight torch.Size([4096, 4096]) <class 'torch.Tensor'>\n",
      "layers.31.attention.wk.weight torch.Size([1024, 4096]) <class 'torch.Tensor'>\n",
      "layers.31.attention.wv.weight torch.Size([1024, 4096]) <class 'torch.Tensor'>\n",
      "layers.31.attention.wo.weight torch.Size([4096, 4096]) <class 'torch.Tensor'>\n",
      "layers.31.feed_forward.w1.weight torch.Size([14336, 4096]) <class 'torch.Tensor'>\n",
      "layers.31.feed_forward.w3.weight torch.Size([14336, 4096]) <class 'torch.Tensor'>\n",
      "layers.31.feed_forward.w2.weight torch.Size([4096, 14336]) <class 'torch.Tensor'>\n",
      "layers.31.attention_norm.weight torch.Size([4096]) <class 'torch.Tensor'>\n",
      "layers.31.ffn_norm.weight torch.Size([4096]) <class 'torch.Tensor'>\n",
      "norm.weight torch.Size([4096]) <class 'torch.Tensor'>\n",
      "output.weight torch.Size([128256, 4096]) <class 'torch.Tensor'>\n"
     ]
    }
   ],
   "source": [
    "print(len(model))\n",
    "for key in model.keys():\n",
    "    print(key, model[key].shape, type(model[key]))"
   ]
  },
  {
   "cell_type": "code",
   "execution_count": 60,
   "metadata": {},
   "outputs": [
    {
     "data": {
      "text/plain": [
       "{'dim': 4096,\n",
       " 'n_layers': 32,\n",
       " 'n_heads': 32,\n",
       " 'n_kv_heads': 8,\n",
       " 'vocab_size': 128256,\n",
       " 'multiple_of': 1024,\n",
       " 'ffn_dim_multiplier': 1.3,\n",
       " 'norm_eps': 1e-05,\n",
       " 'rope_theta': 500000.0}"
      ]
     },
     "execution_count": 60,
     "metadata": {},
     "output_type": "execute_result"
    }
   ],
   "source": [
    "with open(\"Meta-Llama-3-8B/params.json\", \"r\") as f:\n",
    "    config = json.load(f)\n",
    "config"
   ]
  },
  {
   "cell_type": "markdown",
   "metadata": {},
   "source": [
    "## we use this config to infer details about the model like\n",
    "1. the model has 32 transformer layers\n",
    "2. each multi-head attention block has 32 heads\n",
    "3. the vocab size and so on"
   ]
  },
  {
   "cell_type": "code",
   "execution_count": 61,
   "metadata": {},
   "outputs": [],
   "source": [
    "dim = config[\"dim\"]\n",
    "n_layers = config[\"n_layers\"]\n",
    "n_heads = config[\"n_heads\"]\n",
    "n_kv_heads = config[\"n_kv_heads\"]\n",
    "vocab_size = config[\"vocab_size\"]\n",
    "multiple_of = config[\"multiple_of\"]\n",
    "ffn_dim_multiplier = config[\"ffn_dim_multiplier\"]\n",
    "norm_eps = config[\"norm_eps\"]\n",
    "rope_theta = torch.tensor(config[\"rope_theta\"])"
   ]
  },
  {
   "cell_type": "markdown",
   "metadata": {},
   "source": [
    "## converting text to tokens\n",
    "here we use tiktoken (i think an openai library) as the tokenizer\n",
    "<div>\n",
    "    <img src=\"images/tokens.png\" width=\"600\"/>\n",
    "</div>"
   ]
  },
  {
   "cell_type": "code",
   "execution_count": 62,
   "metadata": {},
   "outputs": [
    {
     "name": "stdout",
     "output_type": "stream",
     "text": [
      "[128000, 1820, 4320, 311, 279, 17139, 3488, 315, 2324, 11, 279, 15861, 11, 323, 4395, 374, 220]\n",
      "['<|begin_of_text|>', 'the', ' answer', ' to', ' the', ' ultimate', ' question', ' of', ' life', ',', ' the', ' universe', ',', ' and', ' everything', ' is', ' ']\n"
     ]
    }
   ],
   "source": [
    "prompt = \"the answer to the ultimate question of life, the universe, and everything is \"\n",
    "tokens = [128000] + tokenizer.encode(prompt)\n",
    "print(tokens)\n",
    "tokens = torch.tensor(tokens)\n",
    "prompt_split_as_tokens = [tokenizer.decode([token.item()]) for token in tokens]\n",
    "print(prompt_split_as_tokens)"
   ]
  },
  {
   "cell_type": "markdown",
   "metadata": {},
   "source": [
    "## converting tokens to their embedding\n",
    "IM SORRY but this is the only part of the codebase where i use an inbuilt neural network module\n",
    "<br>\n",
    "anyway, so our [17x1] tokens are now [17x4096], i.e. 17 embeddings (one for each token) of length 4096\n",
    "<br>\n",
    "<br>\n",
    "note: keep track of the shapes, it makes it much easier to understand everything\n",
    "\n",
    "<div>\n",
    "    <img src=\"images/embeddings.png\" width=\"600\"/>\n",
    "</div>"
   ]
  },
  {
   "cell_type": "code",
   "execution_count": 63,
   "metadata": {},
   "outputs": [
    {
     "data": {
      "text/plain": [
       "torch.Size([17, 4096])"
      ]
     },
     "execution_count": 63,
     "metadata": {},
     "output_type": "execute_result"
    }
   ],
   "source": [
    "embedding_layer = torch.nn.Embedding(vocab_size, dim)\n",
    "embedding_layer.weight.data.copy_(model[\"tok_embeddings.weight\"])\n",
    "token_embeddings_unnormalized = embedding_layer(tokens).to(torch.bfloat16)\n",
    "token_embeddings_unnormalized.shape"
   ]
  },
  {
   "cell_type": "markdown",
   "metadata": {},
   "source": [
    "## we then normalize the embedding using rms normalization\n",
    "please, note after this step the shapes dont change, the values are just normalized\n",
    "<br>\n",
    "things to keep in mind, we need a norm_eps (from config) because we dont want to accidently set rms to 0 and divide by 0\n",
    "<br>\n",
    "here is the formula:\n",
    "<div>\n",
    "    <img src=\"images/rms.png\" width=\"600\"/>\n",
    "</div>"
   ]
  },
  {
   "cell_type": "code",
   "execution_count": 64,
   "metadata": {},
   "outputs": [],
   "source": [
    "# def rms_norm(tensor, norm_weights):\n",
    "#     rms = (tensor.pow(2).mean(-1, keepdim=True) + norm_eps)**0.5\n",
    "#     return tensor * (norm_weights / rms)\n",
    "def rms_norm(tensor, norm_weights):\n",
    "    return (tensor * torch.rsqrt(tensor.pow(2).mean(-1, keepdim=True) + norm_eps)) * norm_weights"
   ]
  },
  {
   "cell_type": "markdown",
   "metadata": {},
   "source": [
    "# building the first first layer of the transformer\n",
    "\n",
    "### normalization\n",
    "you will see me accessing layer.0 from the model dict (this is the first layer)\n",
    "<br>\n",
    "anyway, so after normalizing our shapes are still [17x4096] same as embedding but normalized \n",
    "\n",
    "<div>\n",
    "    <img src=\"images/norm.png\" width=\"600\"/>\n",
    "</div>"
   ]
  },
  {
   "cell_type": "code",
   "execution_count": 65,
   "metadata": {},
   "outputs": [
    {
     "data": {
      "text/plain": [
       "torch.Size([17, 4096])"
      ]
     },
     "execution_count": 65,
     "metadata": {},
     "output_type": "execute_result"
    }
   ],
   "source": [
    "token_embeddings = rms_norm(token_embeddings_unnormalized, model[\"layers.0.attention_norm.weight\"])\n",
    "token_embeddings.shape"
   ]
  },
  {
   "cell_type": "code",
   "execution_count": 66,
   "metadata": {},
   "outputs": [
    {
     "name": "stdout",
     "output_type": "stream",
     "text": [
      "torch.Size([4096])\n",
      "torch.Size([17, 4096])\n",
      "tensor([[5.1498e-05],\n",
      "        [4.5061e-05],\n",
      "        [6.6280e-05],\n",
      "        [2.6345e-05],\n",
      "        [2.9445e-05],\n",
      "        [8.4400e-05],\n",
      "        [6.0558e-05],\n",
      "        [2.2888e-05],\n",
      "        [5.4121e-05],\n",
      "        [2.8968e-05],\n",
      "        [2.9445e-05],\n",
      "        [8.2016e-05],\n",
      "        [2.8968e-05],\n",
      "        [3.1471e-05],\n",
      "        [6.9141e-05],\n",
      "        [2.9564e-05],\n",
      "        [2.7418e-05]], dtype=torch.bfloat16, grad_fn=<MeanBackward1>)\n"
     ]
    }
   ],
   "source": [
    "print(model[\"layers.0.attention_norm.weight\"].shape)\n",
    "print(token_embeddings_unnormalized.shape)\n",
    "print(token_embeddings_unnormalized.pow(2).mean(-1, keepdim=True))\n"
   ]
  },
  {
   "cell_type": "markdown",
   "metadata": {},
   "source": [
    "### attention implemented from scratch\n",
    "let's load the attention heads of the first layer of the transformer\n",
    "<div>\n",
    "    <img src=\"images/qkv.png\" width=\"600\"/>\n",
    "</div>\n",
    "\n",
    "<br>\n",
    "\n",
    "&gt; when we load the query, key, value and output vectors from the model we notice the shapes to be [4096x4096], [1024x4096], [1024x4096], [4096x4096]\n",
    "<br>\n",
    "&gt; at first glance this is weird because ideally we want each q,k,v and o for each head individually\n",
    "<br>\n",
    "&gt; the authors of the code bundled them togeather because its easy it helps parallize attention head multiplication.\n",
    "<br>\n",
    "&gt; im going to unwrap everything... "
   ]
  },
  {
   "cell_type": "code",
   "execution_count": 67,
   "metadata": {},
   "outputs": [
    {
     "name": "stdout",
     "output_type": "stream",
     "text": [
      "torch.Size([4096, 4096]) torch.Size([1024, 4096]) torch.Size([1024, 4096]) torch.Size([4096, 4096])\n"
     ]
    }
   ],
   "source": [
    "print(\n",
    "    model[\"layers.0.attention.wq.weight\"].shape,\n",
    "    model[\"layers.0.attention.wk.weight\"].shape,\n",
    "    model[\"layers.0.attention.wv.weight\"].shape,\n",
    "    model[\"layers.0.attention.wo.weight\"].shape\n",
    ")"
   ]
  },
  {
   "cell_type": "markdown",
   "metadata": {},
   "source": [
    "### unwrapping query\n",
    "in the next section we will unwrap the queries from multiple attention heads, the resulting shape is [32x128x4096]\n",
    "<br><br>\n",
    "here, 32 is the number of attention heads in llama3, 128 is the size of the query vector and 4096 is the size of the token embedding"
   ]
  },
  {
   "cell_type": "code",
   "execution_count": 68,
   "metadata": {},
   "outputs": [
    {
     "data": {
      "text/plain": [
       "torch.Size([32, 128, 4096])"
      ]
     },
     "execution_count": 68,
     "metadata": {},
     "output_type": "execute_result"
    }
   ],
   "source": [
    "q_layer0 = model[\"layers.0.attention.wq.weight\"]\n",
    "head_dim = q_layer0.shape[0] // n_heads\n",
    "q_layer0 = q_layer0.view(n_heads, head_dim, dim)\n",
    "q_layer0.shape"
   ]
  },
  {
   "cell_type": "markdown",
   "metadata": {},
   "source": [
    "### im going to implement the first head of the first layer\n",
    "here i access the query weight matrix first head of the first layer, the size of this query weight matrix is [128x4096]"
   ]
  },
  {
   "cell_type": "code",
   "execution_count": 69,
   "metadata": {},
   "outputs": [
    {
     "data": {
      "text/plain": [
       "torch.Size([128, 4096])"
      ]
     },
     "execution_count": 69,
     "metadata": {},
     "output_type": "execute_result"
    }
   ],
   "source": [
    "q_layer0_head0 = q_layer0[0]\n",
    "q_layer0_head0.shape"
   ]
  },
  {
   "cell_type": "markdown",
   "metadata": {},
   "source": [
    "### we now multiply the query weights with the token embedding, to recive a query for the token\n",
    "here you can see the resulting shape is [17x128], this is because we have 17 tokens and for each token there is a 128 length query.\n",
    "<div>\n",
    "    <img src=\"images/q_per_token.png\" width=\"600\"/>\n",
    "</div>"
   ]
  },
  {
   "cell_type": "code",
   "execution_count": 70,
   "metadata": {},
   "outputs": [
    {
     "data": {
      "text/plain": [
       "torch.Size([17, 128])"
      ]
     },
     "execution_count": 70,
     "metadata": {},
     "output_type": "execute_result"
    }
   ],
   "source": [
    "q_per_token = torch.matmul(token_embeddings, q_layer0_head0.T)\n",
    "q_per_token.shape"
   ]
  },
  {
   "cell_type": "markdown",
   "metadata": {},
   "source": [
    "## positioning encoding\n",
    "we are now at a stage where we have a query vector for each token in our prompt, but if you think about it -- the indivitually query vector has no idea about the position in the prompt.\n",
    "<br><br>\n",
    "query: \"the answer to the ultimate question of life, the universe, and everything is \"\n",
    "<br><br>\n",
    "in our prompt we have used \"the\" three times, we need the query vectors of all 3 \"the\" tokens to have different query vectors (each of size [1x128]) based on their positions in the query. we perform these rotations using RoPE (rotory positional embedding).\n",
    "<br><br>\n",
    "### RoPE\n",
    "watch this video (this is what i watched) to understand the math.\n",
    "https://www.youtube.com/watch?v=o29P0Kpobz0&t=530s\n",
    "\n",
    "\n",
    "<div>\n",
    "    <img src=\"images/rope.png\" width=\"600\"/>\n",
    "</div>"
   ]
  },
  {
   "cell_type": "code",
   "execution_count": 71,
   "metadata": {},
   "outputs": [
    {
     "data": {
      "text/plain": [
       "torch.Size([17, 64, 2])"
      ]
     },
     "execution_count": 71,
     "metadata": {},
     "output_type": "execute_result"
    }
   ],
   "source": [
    "q_per_token_split_into_pairs = q_per_token.float().view(q_per_token.shape[0], -1, 2)\n",
    "q_per_token_split_into_pairs.shape"
   ]
  },
  {
   "cell_type": "markdown",
   "metadata": {},
   "source": [
    "in the above step, we split the query vectors into pairs, we apply a rotational angle shift to each pair!\n",
    "<br><br>\n",
    "we now have a vector of size [17x64x2], this is the 128 length queries split into 64 pairs for each token in the prompt! each of those 64 pairs will be rotated by m*(theta) where m is the position of the token for which we are rotating the query!\n",
    "\n",
    "\n",
    "<div>\n",
    "    <img src=\"images/qsplit.png\" width=\"600\"/>\n",
    "</div>"
   ]
  },
  {
   "cell_type": "markdown",
   "metadata": {},
   "source": [
    "## using dot product of complex numbers to rotate a vector\n",
    "<div>\n",
    "    <img src=\"images/freq_cis.png\" width=\"600\"/>\n",
    "</div>"
   ]
  },
  {
   "cell_type": "code",
   "execution_count": 72,
   "metadata": {},
   "outputs": [
    {
     "data": {
      "text/plain": [
       "tensor([0.0000, 0.0156, 0.0312, 0.0469, 0.0625, 0.0781, 0.0938, 0.1094, 0.1250,\n",
       "        0.1406, 0.1562, 0.1719, 0.1875, 0.2031, 0.2188, 0.2344, 0.2500, 0.2656,\n",
       "        0.2812, 0.2969, 0.3125, 0.3281, 0.3438, 0.3594, 0.3750, 0.3906, 0.4062,\n",
       "        0.4219, 0.4375, 0.4531, 0.4688, 0.4844, 0.5000, 0.5156, 0.5312, 0.5469,\n",
       "        0.5625, 0.5781, 0.5938, 0.6094, 0.6250, 0.6406, 0.6562, 0.6719, 0.6875,\n",
       "        0.7031, 0.7188, 0.7344, 0.7500, 0.7656, 0.7812, 0.7969, 0.8125, 0.8281,\n",
       "        0.8438, 0.8594, 0.8750, 0.8906, 0.9062, 0.9219, 0.9375, 0.9531, 0.9688,\n",
       "        0.9844])"
      ]
     },
     "execution_count": 72,
     "metadata": {},
     "output_type": "execute_result"
    }
   ],
   "source": [
    "zero_to_one_split_into_64_parts = torch.tensor(range(64))/64\n",
    "zero_to_one_split_into_64_parts"
   ]
  },
  {
   "cell_type": "code",
   "execution_count": 73,
   "metadata": {},
   "outputs": [
    {
     "name": "stdout",
     "output_type": "stream",
     "text": [
      "tensor(500000.)\n",
      "tensor([1.0000e+00, 8.1462e-01, 6.6360e-01, 5.4058e-01, 4.4037e-01, 3.5873e-01,\n",
      "        2.9223e-01, 2.3805e-01, 1.9392e-01, 1.5797e-01, 1.2869e-01, 1.0483e-01,\n",
      "        8.5397e-02, 6.9566e-02, 5.6670e-02, 4.6164e-02, 3.7606e-02, 3.0635e-02,\n",
      "        2.4955e-02, 2.0329e-02, 1.6560e-02, 1.3490e-02, 1.0990e-02, 8.9523e-03,\n",
      "        7.2927e-03, 5.9407e-03, 4.8394e-03, 3.9423e-03, 3.2114e-03, 2.6161e-03,\n",
      "        2.1311e-03, 1.7360e-03, 1.4142e-03, 1.1520e-03, 9.3847e-04, 7.6450e-04,\n",
      "        6.2277e-04, 5.0732e-04, 4.1327e-04, 3.3666e-04, 2.7425e-04, 2.2341e-04,\n",
      "        1.8199e-04, 1.4825e-04, 1.2077e-04, 9.8381e-05, 8.0143e-05, 6.5286e-05,\n",
      "        5.3183e-05, 4.3324e-05, 3.5292e-05, 2.8750e-05, 2.3420e-05, 1.9078e-05,\n",
      "        1.5542e-05, 1.2660e-05, 1.0313e-05, 8.4015e-06, 6.8440e-06, 5.5752e-06,\n",
      "        4.5417e-06, 3.6997e-06, 3.0139e-06, 2.4551e-06])\n"
     ]
    }
   ],
   "source": [
    "freqs = 1.0 / (rope_theta ** zero_to_one_split_into_64_parts)\n",
    "print(rope_theta)\n",
    "print(freqs)"
   ]
  },
  {
   "cell_type": "code",
   "execution_count": 74,
   "metadata": {},
   "outputs": [
    {
     "name": "stdout",
     "output_type": "stream",
     "text": [
      "tensor([[0.0000e+00, 0.0000e+00, 0.0000e+00,  ..., 0.0000e+00, 0.0000e+00,\n",
      "         0.0000e+00],\n",
      "        [1.0000e+00, 8.1462e-01, 6.6360e-01,  ..., 3.6997e-06, 3.0139e-06,\n",
      "         2.4551e-06],\n",
      "        [2.0000e+00, 1.6292e+00, 1.3272e+00,  ..., 7.3994e-06, 6.0277e-06,\n",
      "         4.9103e-06],\n",
      "        ...,\n",
      "        [1.4000e+01, 1.1405e+01, 9.2904e+00,  ..., 5.1796e-05, 4.2194e-05,\n",
      "         3.4372e-05],\n",
      "        [1.5000e+01, 1.2219e+01, 9.9540e+00,  ..., 5.5496e-05, 4.5208e-05,\n",
      "         3.6827e-05],\n",
      "        [1.6000e+01, 1.3034e+01, 1.0618e+01,  ..., 5.9196e-05, 4.8222e-05,\n",
      "         3.9282e-05]])\n",
      "torch.Size([17, 64])\n",
      "torch.Size([64])\n"
     ]
    },
    {
     "data": {
      "image/png": "[encoded data removed]",
      "text/plain": [
       "<Figure size 640x480 with 1 Axes>"
      ]
     },
     "metadata": {},
     "output_type": "display_data"
    }
   ],
   "source": [
    "freqs_for_each_token = torch.outer(torch.arange(17), freqs)\n",
    "print(freqs_for_each_token)\n",
    "freqs_cis = torch.polar(torch.ones_like(freqs_for_each_token), freqs_for_each_token)\n",
    "print(freqs_cis.shape)\n",
    "\n",
    "# viewing the third row of freqs_cis\n",
    "value = freqs_cis[3]\n",
    "print(value.shape)\n",
    "plt.figure()\n",
    "for i, element in enumerate(value[:30]):\n",
    "    plt.plot([0, element.real], [0, element.imag], color='blue', linewidth=1, label=f\"Index: {i}\")\n",
    "    plt.annotate(f\"{i}\", xy=(element.real, element.imag), color='red')\n",
    "plt.xlabel('Real')\n",
    "plt.ylabel('Imaginary')\n",
    "plt.title('Plot of one row of freqs_cis')\n",
    "plt.show()"
   ]
  },
  {
   "cell_type": "markdown",
   "metadata": {},
   "source": [
    "### now that we have a complex number (the angle change vector) for every token's query element\n",
    "we can convert our queries (the one we split into pairs) as complex numbers and then dot product to rotate the query based on the position\n",
    "<br>\n",
    "honeslty this is beautiful to think about :)"
   ]
  },
  {
   "cell_type": "code",
   "execution_count": 75,
   "metadata": {},
   "outputs": [
    {
     "name": "stdout",
     "output_type": "stream",
     "text": [
      "<class 'torch.Tensor'> torch.complex64\n",
      "torch.Size([17, 64])\n"
     ]
    }
   ],
   "source": [
    "q_per_token_as_complex_numbers = torch.view_as_complex(q_per_token_split_into_pairs)\n",
    "print(type(q_per_token_as_complex_numbers), q_per_token_as_complex_numbers.dtype)\n",
    "print(q_per_token_as_complex_numbers.shape)"
   ]
  },
  {
   "cell_type": "code",
   "execution_count": 76,
   "metadata": {},
   "outputs": [
    {
     "name": "stdout",
     "output_type": "stream",
     "text": [
      "torch.Size([17, 64]) torch.complex64\n",
      "torch.Size([17, 64]) torch.complex64\n"
     ]
    },
    {
     "data": {
      "text/plain": [
       "torch.Size([17, 64])"
      ]
     },
     "execution_count": 76,
     "metadata": {},
     "output_type": "execute_result"
    }
   ],
   "source": [
    "print(q_per_token_as_complex_numbers.shape, q_per_token_as_complex_numbers.dtype)\n",
    "print(freqs_cis.shape, freqs_cis.dtype)\n",
    "q_per_token_as_complex_numbers_rotated = q_per_token_as_complex_numbers * freqs_cis\n",
    "q_per_token_as_complex_numbers_rotated.shape"
   ]
  },
  {
   "cell_type": "markdown",
   "metadata": {},
   "source": [
    "### after rotated vector is obtained\n",
    "we can get back our the queries as pairs by viewing the complex numbers as real numbers again"
   ]
  },
  {
   "cell_type": "code",
   "execution_count": 77,
   "metadata": {},
   "outputs": [
    {
     "data": {
      "text/plain": [
       "torch.Size([17, 64, 2])"
      ]
     },
     "execution_count": 77,
     "metadata": {},
     "output_type": "execute_result"
    }
   ],
   "source": [
    "q_per_token_split_into_pairs_rotated = torch.view_as_real(q_per_token_as_complex_numbers_rotated)\n",
    "q_per_token_split_into_pairs_rotated.shape"
   ]
  },
  {
   "cell_type": "markdown",
   "metadata": {},
   "source": [
    "the rotated pairs are now merged, we now have a new query vector (rotated query vector) that is of the shape [17x128] where 17 is the number of tokens and the 128 is the dim of the query vector"
   ]
  },
  {
   "cell_type": "code",
   "execution_count": 78,
   "metadata": {},
   "outputs": [
    {
     "data": {
      "text/plain": [
       "torch.Size([17, 128])"
      ]
     },
     "execution_count": 78,
     "metadata": {},
     "output_type": "execute_result"
    }
   ],
   "source": [
    "q_per_token_rotated = q_per_token_split_into_pairs_rotated.view(q_per_token.shape)\n",
    "q_per_token_rotated.shape"
   ]
  },
  {
   "cell_type": "markdown",
   "metadata": {},
   "source": [
    "# keys (almost the same as queries)\n",
    "<div>\n",
    "    <img src=\"images/keys.png\" width=\"600px\"/>\n",
    "</div>\n",
    "im lazy as fuck, so im not going to go through the math for keys, the only things you need to keep in mind are:\n",
    "<br>\n",
    "&gt; keys generate key vectors also of dimention 128\n",
    "<br>\n",
    "&gt; keys have only 1/4th the number of the weights as queries, this is because the weights for keys are shared across 4 heads at a time, to reduce the number of computations need\n",
    "<br>\n",
    "&gt; keys are also rotated to add positional info, just like queries because of the same reasons "
   ]
  },
  {
   "cell_type": "code",
   "execution_count": 79,
   "metadata": {},
   "outputs": [
    {
     "data": {
      "text/plain": [
       "torch.Size([8, 128, 4096])"
      ]
     },
     "execution_count": 79,
     "metadata": {},
     "output_type": "execute_result"
    }
   ],
   "source": [
    "k_layer0 = model[\"layers.0.attention.wk.weight\"]\n",
    "k_layer0 = k_layer0.view(n_kv_heads, k_layer0.shape[0] // n_kv_heads, dim)\n",
    "k_layer0.shape"
   ]
  },
  {
   "cell_type": "code",
   "execution_count": 80,
   "metadata": {},
   "outputs": [
    {
     "data": {
      "text/plain": [
       "torch.Size([128, 4096])"
      ]
     },
     "execution_count": 80,
     "metadata": {},
     "output_type": "execute_result"
    }
   ],
   "source": [
    "k_layer0_head0 = k_layer0[0]\n",
    "k_layer0_head0.shape"
   ]
  },
  {
   "cell_type": "code",
   "execution_count": 81,
   "metadata": {},
   "outputs": [
    {
     "data": {
      "text/plain": [
       "torch.Size([17, 128])"
      ]
     },
     "execution_count": 81,
     "metadata": {},
     "output_type": "execute_result"
    }
   ],
   "source": [
    "k_per_token = torch.matmul(token_embeddings, k_layer0_head0.T)\n",
    "k_per_token.shape"
   ]
  },
  {
   "cell_type": "code",
   "execution_count": 82,
   "metadata": {},
   "outputs": [
    {
     "data": {
      "text/plain": [
       "torch.Size([17, 64, 2])"
      ]
     },
     "execution_count": 82,
     "metadata": {},
     "output_type": "execute_result"
    }
   ],
   "source": [
    "k_per_token_split_into_pairs = k_per_token.float().view(k_per_token.shape[0], -1, 2)\n",
    "k_per_token_split_into_pairs.shape"
   ]
  },
  {
   "cell_type": "code",
   "execution_count": 83,
   "metadata": {},
   "outputs": [
    {
     "data": {
      "text/plain": [
       "torch.Size([17, 64])"
      ]
     },
     "execution_count": 83,
     "metadata": {},
     "output_type": "execute_result"
    }
   ],
   "source": [
    "k_per_token_as_complex_numbers = torch.view_as_complex(k_per_token_split_into_pairs)\n",
    "k_per_token_as_complex_numbers.shape"
   ]
  },
  {
   "cell_type": "code",
   "execution_count": 84,
   "metadata": {},
   "outputs": [
    {
     "data": {
      "text/plain": [
       "torch.Size([17, 64, 2])"
      ]
     },
     "execution_count": 84,
     "metadata": {},
     "output_type": "execute_result"
    }
   ],
   "source": [
    "k_per_token_split_into_pairs_rotated = torch.view_as_real(k_per_token_as_complex_numbers * freqs_cis)\n",
    "k_per_token_split_into_pairs_rotated.shape"
   ]
  },
  {
   "cell_type": "code",
   "execution_count": 85,
   "metadata": {},
   "outputs": [
    {
     "data": {
      "text/plain": [
       "torch.Size([17, 128])"
      ]
     },
     "execution_count": 85,
     "metadata": {},
     "output_type": "execute_result"
    }
   ],
   "source": [
    "k_per_token_rotated = k_per_token_split_into_pairs_rotated.view(k_per_token.shape)\n",
    "k_per_token_rotated.shape"
   ]
  },
  {
   "cell_type": "markdown",
   "metadata": {},
   "source": [
    "## at this stage now have both the rotated values of queries and keys, for each token. \n",
    "<div>\n",
    "    <img src=\"images/keys0.png\" width=\"600px\"/>\n",
    "</div>\n",
    "each of the queries and keys are now of shape [17x128]. "
   ]
  },
  {
   "cell_type": "markdown",
   "metadata": {},
   "source": [
    "## in the next step we will multiply the queries and key matrices\n",
    "doing this will give us a score mapping each token with one another\n",
    "<br>\n",
    "this score describes how well each token's query relates to the each tokens's key. \n",
    "THIS IS SELF ATTENTION :)\n",
    "<br>\n",
    "the shape of the attention score matrix (qk_per_token) is [17x17] where 17 is the number of tokens in the prompt\n",
    "\n",
    "<div>\n",
    "    <img src=\"images/qkmatmul.png\" width=\"600px\"/>\n",
    "</div>"
   ]
  },
  {
   "cell_type": "code",
   "execution_count": 86,
   "metadata": {},
   "outputs": [
    {
     "name": "stdout",
     "output_type": "stream",
     "text": [
      "torch.Size([17, 128]) torch.Size([17, 128])\n"
     ]
    },
    {
     "data": {
      "text/plain": [
       "torch.Size([17, 17])"
      ]
     },
     "execution_count": 86,
     "metadata": {},
     "output_type": "execute_result"
    }
   ],
   "source": [
    "print(q_per_token_rotated.shape, k_per_token_rotated.shape)\n",
    "qk_per_token = torch.matmul(q_per_token_rotated, k_per_token_rotated.T)/(head_dim)**0.5\n",
    "qk_per_token.shape"
   ]
  },
  {
   "cell_type": "markdown",
   "metadata": {},
   "source": [
    "# we now have to mask query key scores\n",
    "during the training process of llama3, the future token qk scores are masked.\n",
    "<br>\n",
    "why? because during training we only learn to predict tokens using past tokens.\n",
    "<br>\n",
    "as a result, during inference we set the future tokens to zero.\n",
    "<div>\n",
    "    <img src=\"images/mask.png\" width=\"600px\"/>\n",
    "</div>"
   ]
  },
  {
   "cell_type": "code",
   "execution_count": 87,
   "metadata": {},
   "outputs": [
    {
     "data": {
      "image/png": "[encoded data removed]",
      "text/plain": [
       "<Figure size 640x480 with 2 Axes>"
      ]
     },
     "metadata": {},
     "output_type": "display_data"
    }
   ],
   "source": [
    "def display_qk_heatmap(qk_per_token):\n",
    "    _, ax = plt.subplots()\n",
    "    im = ax.imshow(qk_per_token.to(float).detach(), cmap='viridis')\n",
    "    ax.set_xticks(range(len(prompt_split_as_tokens)))\n",
    "    ax.set_yticks(range(len(prompt_split_as_tokens)))\n",
    "    ax.set_xticklabels(prompt_split_as_tokens)\n",
    "    ax.set_yticklabels(prompt_split_as_tokens)\n",
    "    ax.figure.colorbar(im, ax=ax)\n",
    "    \n",
    "display_qk_heatmap(qk_per_token)"
   ]
  },
  {
   "cell_type": "code",
   "execution_count": 88,
   "metadata": {},
   "outputs": [
    {
     "data": {
      "text/plain": [
       "tensor([[0., -inf, -inf, -inf, -inf, -inf, -inf, -inf, -inf, -inf, -inf, -inf, -inf, -inf, -inf, -inf, -inf],\n",
       "        [0., 0., -inf, -inf, -inf, -inf, -inf, -inf, -inf, -inf, -inf, -inf, -inf, -inf, -inf, -inf, -inf],\n",
       "        [0., 0., 0., -inf, -inf, -inf, -inf, -inf, -inf, -inf, -inf, -inf, -inf, -inf, -inf, -inf, -inf],\n",
       "        [0., 0., 0., 0., -inf, -inf, -inf, -inf, -inf, -inf, -inf, -inf, -inf, -inf, -inf, -inf, -inf],\n",
       "        [0., 0., 0., 0., 0., -inf, -inf, -inf, -inf, -inf, -inf, -inf, -inf, -inf, -inf, -inf, -inf],\n",
       "        [0., 0., 0., 0., 0., 0., -inf, -inf, -inf, -inf, -inf, -inf, -inf, -inf, -inf, -inf, -inf],\n",
       "        [0., 0., 0., 0., 0., 0., 0., -inf, -inf, -inf, -inf, -inf, -inf, -inf, -inf, -inf, -inf],\n",
       "        [0., 0., 0., 0., 0., 0., 0., 0., -inf, -inf, -inf, -inf, -inf, -inf, -inf, -inf, -inf],\n",
       "        [0., 0., 0., 0., 0., 0., 0., 0., 0., -inf, -inf, -inf, -inf, -inf, -inf, -inf, -inf],\n",
       "        [0., 0., 0., 0., 0., 0., 0., 0., 0., 0., -inf, -inf, -inf, -inf, -inf, -inf, -inf],\n",
       "        [0., 0., 0., 0., 0., 0., 0., 0., 0., 0., 0., -inf, -inf, -inf, -inf, -inf, -inf],\n",
       "        [0., 0., 0., 0., 0., 0., 0., 0., 0., 0., 0., 0., -inf, -inf, -inf, -inf, -inf],\n",
       "        [0., 0., 0., 0., 0., 0., 0., 0., 0., 0., 0., 0., 0., -inf, -inf, -inf, -inf],\n",
       "        [0., 0., 0., 0., 0., 0., 0., 0., 0., 0., 0., 0., 0., 0., -inf, -inf, -inf],\n",
       "        [0., 0., 0., 0., 0., 0., 0., 0., 0., 0., 0., 0., 0., 0., 0., -inf, -inf],\n",
       "        [0., 0., 0., 0., 0., 0., 0., 0., 0., 0., 0., 0., 0., 0., 0., 0., -inf],\n",
       "        [0., 0., 0., 0., 0., 0., 0., 0., 0., 0., 0., 0., 0., 0., 0., 0., 0.]])"
      ]
     },
     "execution_count": 88,
     "metadata": {},
     "output_type": "execute_result"
    }
   ],
   "source": [
    "mask = torch.full((len(tokens), len(tokens)), float(\"-inf\"), device=tokens.device)\n",
    "mask = torch.triu(mask, diagonal=1)\n",
    "mask"
   ]
  },
  {
   "cell_type": "code",
   "execution_count": 89,
   "metadata": {},
   "outputs": [
    {
     "data": {
      "image/png": "[encoded data removed]",
      "text/plain": [
       "<Figure size 640x480 with 2 Axes>"
      ]
     },
     "metadata": {},
     "output_type": "display_data"
    }
   ],
   "source": [
    "qk_per_token_after_masking = qk_per_token + mask\n",
    "display_qk_heatmap(qk_per_token_after_masking)"
   ]
  },
  {
   "cell_type": "markdown",
   "metadata": {},
   "source": [
    "<div>\n",
    "    <img src=\"images/softmax.png\" width=\"600px\"/>\n",
    "</div>"
   ]
  },
  {
   "cell_type": "code",
   "execution_count": 90,
   "metadata": {},
   "outputs": [
    {
     "data": {
      "image/png": "[encoded data removed]",
      "text/plain": [
       "<Figure size 640x480 with 2 Axes>"
      ]
     },
     "metadata": {},
     "output_type": "display_data"
    }
   ],
   "source": [
    "qk_per_token_after_masking_after_softmax = torch.nn.functional.softmax(qk_per_token_after_masking, dim=1).to(torch.bfloat16)\n",
    "display_qk_heatmap(qk_per_token_after_masking_after_softmax)"
   ]
  },
  {
   "cell_type": "markdown",
   "metadata": {},
   "source": [
    "## values (almost the end of attention)\n",
    "\n",
    "<div>\n",
    "    <img src=\"images/value.png\" width=\"600px\"/>\n",
    "</div>\n",
    "these scores (0-1) are used to determine how much of value matrix is used per token\n",
    "<br>\n",
    "&gt; just like keys, value weights are also shared acorss every 4 attention heads (to save computation)\n",
    "<br>\n",
    "&gt; as a result, the shape of the value weight matrix below is [8x128x4096]\n"
   ]
  },
  {
   "cell_type": "code",
   "execution_count": 91,
   "metadata": {},
   "outputs": [
    {
     "data": {
      "text/plain": [
       "torch.Size([8, 128, 4096])"
      ]
     },
     "execution_count": 91,
     "metadata": {},
     "output_type": "execute_result"
    }
   ],
   "source": [
    "v_layer0 = model[\"layers.0.attention.wv.weight\"]\n",
    "v_layer0 = v_layer0.view(n_kv_heads, v_layer0.shape[0] // n_kv_heads, dim)\n",
    "v_layer0.shape"
   ]
  },
  {
   "cell_type": "markdown",
   "metadata": {},
   "source": [
    "the first layer, first head value weight matrix is given below"
   ]
  },
  {
   "cell_type": "code",
   "execution_count": 92,
   "metadata": {},
   "outputs": [
    {
     "data": {
      "text/plain": [
       "torch.Size([128, 4096])"
      ]
     },
     "execution_count": 92,
     "metadata": {},
     "output_type": "execute_result"
    }
   ],
   "source": [
    "v_layer0_head0 = v_layer0[0]\n",
    "v_layer0_head0.shape"
   ]
  },
  {
   "cell_type": "markdown",
   "metadata": {},
   "source": [
    "## value vectors\n",
    "<div>\n",
    "    <img src=\"images/v0.png\" width=\"600px\"/>\n",
    "</div>\n",
    "we now use the value weghts to get the attention values per token, this is of size [17x128] where 17 is the number of tokens in the prompt and 128 is the dim of the value vector per token"
   ]
  },
  {
   "cell_type": "code",
   "execution_count": 93,
   "metadata": {},
   "outputs": [
    {
     "data": {
      "text/plain": [
       "torch.Size([17, 128])"
      ]
     },
     "execution_count": 93,
     "metadata": {},
     "output_type": "execute_result"
    }
   ],
   "source": [
    "v_per_token = torch.matmul(token_embeddings, v_layer0_head0.T)\n",
    "v_per_token.shape"
   ]
  },
  {
   "cell_type": "markdown",
   "metadata": {},
   "source": [
    "## attention\n",
    "<div>\n",
    "    <img src=\"images/attention.png\" width=\"600px\"/>\n",
    "</div>\n",
    "the resultant attention vector after multipying with the values per token is of shape [17*128]"
   ]
  },
  {
   "cell_type": "code",
   "execution_count": 94,
   "metadata": {},
   "outputs": [
    {
     "data": {
      "text/plain": [
       "torch.Size([17, 128])"
      ]
     },
     "execution_count": 94,
     "metadata": {},
     "output_type": "execute_result"
    }
   ],
   "source": [
    "qkv_attention = torch.matmul(qk_per_token_after_masking_after_softmax, v_per_token)\n",
    "qkv_attention.shape"
   ]
  },
  {
   "cell_type": "markdown",
   "metadata": {},
   "source": [
    "# multi head attention\n",
    "<div>\n",
    "    <img src=\"images/heads.png\" width=\"600px\"/>\n",
    "</div>\n",
    "WE NOW HAVE THE ATTENTION VALUE OF THE FIRST LAYER AND FIRST HEAD\n",
    "<br>\n",
    "now im going to run a loop and perform the exact same math as the cells above but for every head in the first layer"
   ]
  },
  {
   "cell_type": "code",
   "execution_count": 95,
   "metadata": {},
   "outputs": [
    {
     "data": {
      "text/plain": [
       "32"
      ]
     },
     "execution_count": 95,
     "metadata": {},
     "output_type": "execute_result"
    }
   ],
   "source": [
    "qkv_attention_store = []\n",
    "\n",
    "for head in range(n_heads):\n",
    "    q_layer0_head = q_layer0[head]\n",
    "    k_layer0_head = k_layer0[head//4] # key weights are shared across 4 heads\n",
    "    v_layer0_head = v_layer0[head//4] # value weights are shared across 4 heads\n",
    "    q_per_token = torch.matmul(token_embeddings, q_layer0_head.T)\n",
    "    k_per_token = torch.matmul(token_embeddings, k_layer0_head.T)\n",
    "    v_per_token = torch.matmul(token_embeddings, v_layer0_head.T)\n",
    "\n",
    "    q_per_token_split_into_pairs = q_per_token.float().view(q_per_token.shape[0], -1, 2)\n",
    "    q_per_token_as_complex_numbers = torch.view_as_complex(q_per_token_split_into_pairs)\n",
    "    q_per_token_split_into_pairs_rotated = torch.view_as_real(q_per_token_as_complex_numbers * freqs_cis[:len(tokens)])\n",
    "    q_per_token_rotated = q_per_token_split_into_pairs_rotated.view(q_per_token.shape)\n",
    "\n",
    "    k_per_token_split_into_pairs = k_per_token.float().view(k_per_token.shape[0], -1, 2)\n",
    "    k_per_token_as_complex_numbers = torch.view_as_complex(k_per_token_split_into_pairs)\n",
    "    k_per_token_split_into_pairs_rotated = torch.view_as_real(k_per_token_as_complex_numbers * freqs_cis[:len(tokens)])\n",
    "    k_per_token_rotated = k_per_token_split_into_pairs_rotated.view(k_per_token.shape)\n",
    "\n",
    "    qk_per_token = torch.matmul(q_per_token_rotated, k_per_token_rotated.T)/(128)**0.5\n",
    "    mask = torch.full((len(tokens), len(tokens)), float(\"-inf\"), device=tokens.device)\n",
    "    mask = torch.triu(mask, diagonal=1)\n",
    "    qk_per_token_after_masking = qk_per_token + mask\n",
    "    qk_per_token_after_masking_after_softmax = torch.nn.functional.softmax(qk_per_token_after_masking, dim=1).to(torch.bfloat16)\n",
    "    qkv_attention = torch.matmul(qk_per_token_after_masking_after_softmax, v_per_token)\n",
    "    qkv_attention = torch.matmul(qk_per_token_after_masking_after_softmax, v_per_token)\n",
    "    qkv_attention_store.append(qkv_attention)\n",
    "\n",
    "len(qkv_attention_store)"
   ]
  },
  {
   "cell_type": "markdown",
   "metadata": {},
   "source": [
    "<div>\n",
    "    <img src=\"images/stacked.png\" width=\"600px\"/>\n",
    "</div>\n",
    "we now have a the qkv_attention matrix for all 32 heads on the first layer, next im going to merge all attention scores into one large matrix of size [17x4096]\n",
    "<br>\n",
    "we are almost at the end :)"
   ]
  },
  {
   "cell_type": "code",
   "execution_count": 96,
   "metadata": {},
   "outputs": [
    {
     "data": {
      "text/plain": [
       "torch.Size([17, 4096])"
      ]
     },
     "execution_count": 96,
     "metadata": {},
     "output_type": "execute_result"
    }
   ],
   "source": [
    "stacked_qkv_attention = torch.cat(qkv_attention_store, dim=-1)\n",
    "stacked_qkv_attention.shape"
   ]
  },
  {
   "cell_type": "markdown",
   "metadata": {},
   "source": [
    "# weight matrix, one of the final steps\n",
    "<div>\n",
    "    <img src=\"images/weightmatrix.png\" width=\"600px\"/>\n",
    "</div>\n",
    "one of the last things to do for a layer 0 attention is, is to multiply the weight matrix of the "
   ]
  },
  {
   "cell_type": "code",
   "execution_count": 97,
   "metadata": {},
   "outputs": [
    {
     "data": {
      "text/plain": [
       "torch.Size([4096, 4096])"
      ]
     },
     "execution_count": 97,
     "metadata": {},
     "output_type": "execute_result"
    }
   ],
   "source": [
    "w_layer0 = model[\"layers.0.attention.wo.weight\"]\n",
    "w_layer0.shape"
   ]
  },
  {
   "cell_type": "markdown",
   "metadata": {},
   "source": [
    "### this is a simple linear layer, so we just matmul"
   ]
  },
  {
   "cell_type": "code",
   "execution_count": 98,
   "metadata": {},
   "outputs": [
    {
     "data": {
      "text/plain": [
       "torch.Size([17, 4096])"
      ]
     },
     "execution_count": 98,
     "metadata": {},
     "output_type": "execute_result"
    }
   ],
   "source": [
    "embedding_delta = torch.matmul(stacked_qkv_attention, w_layer0.T)\n",
    "embedding_delta.shape"
   ]
  },
  {
   "cell_type": "markdown",
   "metadata": {},
   "source": [
    "<div>\n",
    "    <img src=\"images/afterattention.png\" width=\"600px\"/>\n",
    "</div>\n",
    "we now have the change in the embedding value after attention, that should be adding to the original token embeddings"
   ]
  },
  {
   "cell_type": "code",
   "execution_count": 99,
   "metadata": {},
   "outputs": [
    {
     "data": {
      "text/plain": [
       "torch.Size([17, 4096])"
      ]
     },
     "execution_count": 99,
     "metadata": {},
     "output_type": "execute_result"
    }
   ],
   "source": [
    "embedding_after_edit = token_embeddings_unnormalized + embedding_delta\n",
    "embedding_after_edit.shape"
   ]
  },
  {
   "cell_type": "markdown",
   "metadata": {},
   "source": [
    "## we normalize and then run a feed forward neural network through the embedding delta\n",
    "<div>\n",
    "    <img src=\"images/norm_after.png\" width=\"600px\"/>\n",
    "</div>"
   ]
  },
  {
   "cell_type": "code",
   "execution_count": 100,
   "metadata": {},
   "outputs": [
    {
     "data": {
      "text/plain": [
       "torch.Size([17, 4096])"
      ]
     },
     "execution_count": 100,
     "metadata": {},
     "output_type": "execute_result"
    }
   ],
   "source": [
    "embedding_after_edit_normalized = rms_norm(embedding_after_edit, model[\"layers.0.ffn_norm.weight\"])\n",
    "embedding_after_edit_normalized.shape"
   ]
  },
  {
   "cell_type": "markdown",
   "metadata": {},
   "source": [
    "## loading the ff weights and implementing the feed forward network\n",
    "<div>\n",
    "    <img src=\"images/swiglu.png\" width=\"600px\"/>\n",
    "</div>\n",
    "in llama3, they used a SwiGLU feedforward network, this network architecture is really good at adding non linearity when needed by the model.\n",
    "<br>\n",
    "its pretty standard to use this feed forward network architecture in llms these days"
   ]
  },
  {
   "cell_type": "code",
   "execution_count": 101,
   "metadata": {},
   "outputs": [
    {
     "data": {
      "text/plain": [
       "torch.Size([17, 4096])"
      ]
     },
     "execution_count": 101,
     "metadata": {},
     "output_type": "execute_result"
    }
   ],
   "source": [
    "w1 = model[\"layers.0.feed_forward.w1.weight\"]\n",
    "w2 = model[\"layers.0.feed_forward.w2.weight\"]\n",
    "w3 = model[\"layers.0.feed_forward.w3.weight\"]\n",
    "output_after_feedforward = torch.matmul(torch.functional.F.silu(torch.matmul(embedding_after_edit_normalized, w1.T)) * torch.matmul(embedding_after_edit_normalized, w3.T), w2.T)\n",
    "output_after_feedforward.shape"
   ]
  },
  {
   "cell_type": "markdown",
   "metadata": {},
   "source": [
    "# WE FINALLY HAVE NEW EDITED EMBEDDINGS FOR EACH TOKEN AFTER THE FIRST LAYER\n",
    "just 31 more layers to go before we are done (one for loop away)\n",
    "<br>\n",
    "you can imagine this edited embedding as having information about all queries asked on the first layer\n",
    "<br>\n",
    "now each layer will encode more and more complex queries on the quesions asked, until we have an embedding that knows everything about the next token that we need."
   ]
  },
  {
   "cell_type": "code",
   "execution_count": 102,
   "metadata": {},
   "outputs": [
    {
     "data": {
      "text/plain": [
       "torch.Size([17, 4096])"
      ]
     },
     "execution_count": 102,
     "metadata": {},
     "output_type": "execute_result"
    }
   ],
   "source": [
    "layer_0_embedding = embedding_after_edit+output_after_feedforward\n",
    "layer_0_embedding.shape"
   ]
  },
  {
   "cell_type": "markdown",
   "metadata": {},
   "source": [
    "# god, everything all at once\n",
    "<div>\n",
    "    <img src=\"images/god.png\" width=\"600px\"/>\n",
    "</div>\n",
    "yep, this is it. everything we did before, all at once, for every single layer.\n",
    "<br>\n",
    "\n",
    "# have fun reading :)"
   ]
  },
  {
   "cell_type": "code",
   "execution_count": 109,
   "metadata": {},
   "outputs": [],
   "source": [
    "final_embedding = token_embeddings_unnormalized\n",
    "for layer in range(n_layers):\n",
    "    qkv_attention_store = []\n",
    "    layer_embedding_norm = rms_norm(final_embedding, model[f\"layers.{layer}.attention_norm.weight\"])\n",
    "    q_layer = model[f\"layers.{layer}.attention.wq.weight\"]\n",
    "    q_layer = q_layer.view(n_heads, q_layer.shape[0] // n_heads, dim)\n",
    "    k_layer = model[f\"layers.{layer}.attention.wk.weight\"]\n",
    "    k_layer = k_layer.view(n_kv_heads, k_layer.shape[0] // n_kv_heads, dim)\n",
    "    v_layer = model[f\"layers.{layer}.attention.wv.weight\"]\n",
    "    v_layer = v_layer.view(n_kv_heads, v_layer.shape[0] // n_kv_heads, dim)\n",
    "    w_layer = model[f\"layers.{layer}.attention.wo.weight\"]\n",
    "    for head in range(n_heads):\n",
    "        q_layer_head = q_layer[head]\n",
    "        k_layer_head = k_layer[head//4]\n",
    "        v_layer_head = v_layer[head//4]\n",
    "        q_per_token = torch.matmul(layer_embedding_norm, q_layer_head.T)\n",
    "        k_per_token = torch.matmul(layer_embedding_norm, k_layer_head.T)\n",
    "        v_per_token = torch.matmul(layer_embedding_norm, v_layer_head.T)\n",
    "        q_per_token_split_into_pairs = q_per_token.float().view(q_per_token.shape[0], -1, 2)\n",
    "        q_per_token_as_complex_numbers = torch.view_as_complex(q_per_token_split_into_pairs)\n",
    "        q_per_token_split_into_pairs_rotated = torch.view_as_real(q_per_token_as_complex_numbers * freqs_cis)\n",
    "        q_per_token_rotated = q_per_token_split_into_pairs_rotated.view(q_per_token.shape)\n",
    "        k_per_token_split_into_pairs = k_per_token.float().view(k_per_token.shape[0], -1, 2)\n",
    "        k_per_token_as_complex_numbers = torch.view_as_complex(k_per_token_split_into_pairs)\n",
    "        k_per_token_split_into_pairs_rotated = torch.view_as_real(k_per_token_as_complex_numbers * freqs_cis)\n",
    "        k_per_token_rotated = k_per_token_split_into_pairs_rotated.view(k_per_token.shape)\n",
    "        qk_per_token = torch.matmul(q_per_token_rotated, k_per_token_rotated.T)/(128)**0.5\n",
    "        mask = torch.full((len(token_embeddings_unnormalized), len(token_embeddings_unnormalized)), float(\"-inf\"))\n",
    "        mask = torch.triu(mask, diagonal=1)\n",
    "        qk_per_token_after_masking = qk_per_token + mask\n",
    "        qk_per_token_after_masking_after_softmax = torch.nn.functional.softmax(qk_per_token_after_masking, dim=1).to(torch.bfloat16)\n",
    "        qkv_attention = torch.matmul(qk_per_token_after_masking_after_softmax, v_per_token)\n",
    "        qkv_attention_store.append(qkv_attention)\n",
    "\n",
    "    stacked_qkv_attention = torch.cat(qkv_attention_store, dim=-1)\n",
    "    w_layer = model[f\"layers.{layer}.attention.wo.weight\"]\n",
    "    embedding_delta = torch.matmul(stacked_qkv_attention, w_layer.T)\n",
    "    embedding_after_edit = final_embedding + embedding_delta\n",
    "    embedding_after_edit_normalized = rms_norm(embedding_after_edit, model[f\"layers.{layer}.ffn_norm.weight\"])\n",
    "    w1 = model[f\"layers.{layer}.feed_forward.w1.weight\"]\n",
    "    w2 = model[f\"layers.{layer}.feed_forward.w2.weight\"]\n",
    "    w3 = model[f\"layers.{layer}.feed_forward.w3.weight\"]\n",
    "    output_after_feedforward = torch.matmul(torch.functional.F.silu(torch.matmul(embedding_after_edit_normalized, w1.T)) * torch.matmul(embedding_after_edit_normalized, w3.T), w2.T)\n",
    "    final_embedding = embedding_after_edit+output_after_feedforward"
   ]
  },
  {
   "cell_type": "markdown",
   "metadata": {},
   "source": [
    "# we now have the final embedding, the best guess the model could make about the next token\n",
    "the shape of the embedding is the same as regular token embeddings [17x4096] where 17 is the number of tokens and 4096 is the embedding dim\n",
    "<div>\n",
    "    <img src=\"images/last_norm.png\" width=\"600px\"/>\n",
    "</div>"
   ]
  },
  {
   "cell_type": "code",
   "execution_count": 104,
   "metadata": {},
   "outputs": [
    {
     "data": {
      "text/plain": [
       "torch.Size([17, 4096])"
      ]
     },
     "execution_count": 104,
     "metadata": {},
     "output_type": "execute_result"
    }
   ],
   "source": [
    "final_embedding = rms_norm(final_embedding, model[\"norm.weight\"])\n",
    "final_embedding.shape"
   ]
  },
  {
   "cell_type": "markdown",
   "metadata": {},
   "source": [
    "# finally, lets decode the embedding into the token value\n",
    "<div>\n",
    "    <img src=\"images/finallayer.png\" width=\"600px\"/>\n",
    "</div>\n",
    "we will use the output decoder to convert the final embedding into a token"
   ]
  },
  {
   "cell_type": "code",
   "execution_count": 105,
   "metadata": {},
   "outputs": [
    {
     "data": {
      "text/plain": [
       "torch.Size([128256, 4096])"
      ]
     },
     "execution_count": 105,
     "metadata": {},
     "output_type": "execute_result"
    }
   ],
   "source": [
    "model[\"output.weight\"].shape"
   ]
  },
  {
   "cell_type": "markdown",
   "metadata": {},
   "source": [
    "# we use the embedding of the last token to predict the next value\n",
    "hopefully in our case, 42 :)\n",
    "note: 42 is the answer to \"the answer to the ultimate question of life, the universe, and everything is \", according to the book \"hitchhiker's guide to the galaxy\", most mordern llms would answer with 42 here, which should validate our entire code! wish me luck :)"
   ]
  },
  {
   "cell_type": "code",
   "execution_count": 106,
   "metadata": {},
   "outputs": [
    {
     "data": {
      "text/plain": [
       "torch.Size([128256])"
      ]
     },
     "execution_count": 106,
     "metadata": {},
     "output_type": "execute_result"
    }
   ],
   "source": [
    "logits = torch.matmul(final_embedding[-1], model[\"output.weight\"].T)\n",
    "logits.shape"
   ]
  },
  {
   "cell_type": "markdown",
   "metadata": {},
   "source": [
    "### the model predicted token number 2983 as the next token, is this the token number for 42?\n",
    "IM HYPING YOU UP, this is the last cell of code, hopefully you had fun :)"
   ]
  },
  {
   "cell_type": "code",
   "execution_count": 107,
   "metadata": {},
   "outputs": [
    {
     "data": {
      "text/plain": [
       "tensor(2983)"
      ]
     },
     "execution_count": 107,
     "metadata": {},
     "output_type": "execute_result"
    }
   ],
   "source": [
    "next_token = torch.argmax(logits, dim=-1)\n",
    "next_token"
   ]
  },
  {
   "cell_type": "markdown",
   "metadata": {},
   "source": [
    "# lets fucking go\n",
    "<div>\n",
    "    <img src=\"images/42.png\" width=\"600px\"/>\n",
    "</div>"
   ]
  },
  {
   "cell_type": "code",
   "execution_count": 108,
   "metadata": {},
   "outputs": [
    {
     "data": {
      "text/plain": [
       "'42'"
      ]
     },
     "execution_count": 108,
     "metadata": {},
     "output_type": "execute_result"
    }
   ],
   "source": [
    "tokenizer.decode([next_token.item()])"
   ]
  },
  {
   "cell_type": "markdown",
   "metadata": {},
   "source": [
    "# thank you, i love you :)\n",
    "\n",
    "This is the end. Hopefully you enjoyed reading it!\n",
    "\n",
    "If you want to support my work\n",
    "\n",
    "1. follow me on twitter https://twitter.com/naklecha \n",
    "2. or, buy me a coffee [https://www.buymeacoffee.com/naklecha](https://www.buymeacoffee.com/naklecha)\n",
    "\n",
    "Honestly, if you made it this far you already made my day :)\n",
    "\n",
    "## what motivates me?\n",
    "\n",
    "My friends and I are on a mission - to make research more accessible!\n",
    "We created a research lab called A10 - [AAAAAAAAAA.org](http://aaaaaaaaaa.org/)\n",
    "\n",
    "A10 twitter - https://twitter.com/aaaaaaaaaaorg\n",
    "\n",
    "our thesis:\n",
    "<div>\n",
    "    <img src=\"images/a10.png\" width=\"600px\"/>\n",
    "</div>"
   ]
  }
 ],
 "metadata": {
  "kernelspec": {
   "display_name": "Python 3",
   "language": "python",
   "name": "python3"
  },
  "language_info": {
   "codemirror_mode": {
    "name": "ipython",
    "version": 3
   },
   "file_extension": ".py",
   "mimetype": "text/x-python",
   "name": "python",
   "nbconvert_exporter": "python",
   "pygments_lexer": "ipython3",
   "version": "3.10.13"
  }
 },
 "nbformat": 4,
 "nbformat_minor": 2
}
